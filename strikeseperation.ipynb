{
 "cells": [
  {
   "cell_type": "code",
   "execution_count": 18,
   "id": "1dea9917",
   "metadata": {},
   "outputs": [],
   "source": [
    "import torch\n",
    "import demucs.separate\n",
    "from pathlib import Path\n",
    "import os\n",
    "from IPython.display import Audio, display\n",
    "import librosa"
   ]
  },
  {
   "cell_type": "code",
   "execution_count": 20,
   "id": "628c4228",
   "metadata": {},
   "outputs": [],
   "source": [
    "# Uses \"drums\" to seperate action from music and voices in video games\n",
    "\n",
    "class StrikeSeparator:\n",
    "    def __init__(self, model_name='mdx_extra_q', output_dir='separated'):\n",
    "        self.model_name = model_name\n",
    "        self.output_dir = output_dir\n",
    "    \n",
    "    def separate_strikes(self, input_file):\n",
    "        print(\"Original Audio:\")\n",
    "        y_orig, sr = librosa.load(input_file, sr=44100)\n",
    "        display(Audio(y_orig, rate=sr))\n",
    "\n",
    "        os.makedirs(self.output_dir, exist_ok=True)\n",
    "        cmd = [\"--two-stems\", \"drums\", \"-n\", self.model_name, \"--mp3\", input_file]\n",
    "        %time demucs.separate.main(cmd)\n",
    "    \n",
    "    def get_output_path(self, input_file):\n",
    "        return Path(self.output_dir) / self.model_name / Path(input_file).stem / \"drums.mp3\"\n",
    "    \n",
    "    def preview_separated(self, drums_path):\n",
    "        print(\"\\nSeparated Strikes:\")\n",
    "        y_drums, sr = librosa.load(str(drums_path), sr=44100)\n",
    "        display(Audio(y_drums, rate=sr))"
   ]
  },
  {
   "cell_type": "code",
   "execution_count": 21,
   "id": "b3282097",
   "metadata": {
    "scrolled": false
   },
   "outputs": [
    {
     "name": "stdout",
     "output_type": "stream",
     "text": [
      "Original Audio:\n"
     ]
    },
    {
     "data": {
      "text/html": [
       "\n",
       "                <audio  controls=\"controls\" >\n",
       "                    <source src=\"data:audio/wav;base64,UklGRqoFAABXQVZFZm10IBAAAAABAAEARKwAAIhYAQACABAAZGF0YYYFAAAg/9L+s/86AVcDRAauCQkNGxC7EtoUzha9GCQawhogG6cbBRz3G7AbPxt3GoQZ1hhQGEAXNBVwElgPzgt1B2YCLv0Z+Pryne0n6AHjpt5Z2/LYH9fA1bDUp9Om0hrSWdJt00rVo9fG2VTb4twT34/hj+P25CTmE+d954Tnq+c+6CvpUOqi6+rsvu3A7eTsbuuz6cnnbuVJ4nbeq9rK11/WbdaU10fZLNs73Ybf/uFp5HHmvudG6Gzolui56JvoQejE5wHn7uXv5Ffk3eML4/bhAeEh4ODeBd3X2qfYYta606DQf830ylLJg8g9yB7IscedxvHEOsMowjLCUMMUxRrHN8kny2DMqMyQzNzMsM3DzifQPtIG1f/XwdpY3QjgAuNA5rfpbO0+8ab0FPeH+Hr5Svob+z/8AP4fAB8C+QMEBlEIywqXDbYQoxPvFc4Xixn8GugbghwiHfcdNB8DITEjTSUSJ4co9CngK64u/zEANWE3kTnoO0k+hUCFQhlEMEUeRkxHvkg/SrJLAE0zTrVPAVL5VP5XrVoKXRpfxGAAYuVihmMBZHNk1mQPZURl4GVAZ3NpR2xxb6ZypnUteP15B3t7e4t7THvden56X3qaekp7dHzTffB+an8kfz9+Cn3Ue7Z6kHkteEl2pnM4cDNs2GdVY7ReyVlEVCJO0ke7QdI76jUjMNQqTybZIpogcx8dH3AfZyDqIdwjMybFKBsruCyTLSYuCi96MCkyrjMKNWs2mDcBOHI3NDaRNMEyMjFEMMwvQy9dLi4t8CvdKgMqFCmSJ1AliyJ8Hw0cEhiYE/kOrgrNBukClP7X+fn0BvAO65jmNOPK4NvePt0W3E3bq9ou2vjZBdo22kHao9kf2DDWedQA03nR589czqfMvsr8yMPHI8f9xhTHM8eCx1jIssk/y+vM4c4e0WDTddVg107ZhNtP3sbhmuVD6aLsG/D68wv4FPwAAH8DCwZdB2kHPwZaBHUC2wCL/9P+3v4V///+Ef/x/60B6QNaBr0I7wopDYgPDhKzFFcXshlsG1kcRRw5G8kZbhhDF2YWChYTFkQWixagFgQWsRQPE2ERxA9lDhENTAsrCVoHLAaXBYcFowVdBZwE3AOjA0IE/AWmCKQLqg7gEV0V/xh8HJIfHiIjJKUlUibwJXUk+CEKHxccPhkBFv8RlQ2XCEUDDf7L+JrzcO5U6dnjuN2W16LRQMzTxzvEOcGlvuC85Ltpu2W7rrvqu8m7hrtwu3q7lruuu4a71bp1uba3IbZ/tKKy9LDhr26vEK/ZriCvqq80sI+wX7C0rwSvNa4NrXarAaoWqSKoJKfEpVCkK6MVokOhPaBhoI+hHKMhptCodasWriKwQLIyswa1xLZ6twq5qLlCu+e9NsBQw/XFMcnyzMTQJtUK2TbdDOHW44jmOOlE7D7wOfUB+74AuwV8CjkOAxG+E7kVqhciGSUa/xpuGmMZBBj1FjMXJhggGr8cYx9+IZAi8CIiI3MiVSHaIPQfjh9cH6sefh2UGj0XNxIYDEsGwf+A+lv1lPDU7Njo3uWw4n/f8Nuk18HTS8/yyuXGysKevtG6QLeXs5+w+63/rMmshayxrCysBKwAq/yp7KlWqRapEagrp56mmqUGpSGkhqLan4Ccu5g6lX6RIo7Zi3iI9IVag3iBN4EBgPmAl4FSgtqDWINqhOiEgYU9hzSJpY1fkjuYkp4TpJepG67KsWe1I7kRu1+8krwRuwK5O7VMspGvsa23rYKuw7BQsvaz17Qvtv63uriDulG6MrvRu3S767xLvKW8SLs8uUe4wrWztK6ynrLSsjmzDbV3tMi1o7Vntgq4UbnMvFi9j7/jv9e/3r+YvdS+Mb2fv4PAdMHCxdnDFcsLxmDP\" type=\"audio/wav\" />\n",
       "                    Your browser does not support the audio element.\n",
       "                </audio>\n",
       "              "
      ],
      "text/plain": [
       "<IPython.lib.display.Audio object>"
      ]
     },
     "metadata": {},
     "output_type": "display_data"
    },
    {
     "name": "stdout",
     "output_type": "stream",
     "text": [
      "Selected model is a bag of 4 models. You will see that many progress bars per track.\n",
      "Separated tracks will be stored in C:\\Users\\Ammar\\separated\\mdx_extra_q\n",
      "Separating track ultrashort.mp3\n"
     ]
    },
    {
     "name": "stderr",
     "output_type": "stream",
     "text": [
      "100%|█████████████████████████████████████████████████████████████████████████| 33.0/33.0 [00:00<00:00, 316.33seconds/s]\n",
      "100%|█████████████████████████████████████████████████████████████████████████| 33.0/33.0 [00:00<00:00, 308.30seconds/s]\n",
      "100%|█████████████████████████████████████████████████████████████████████████| 33.0/33.0 [00:00<00:00, 340.43seconds/s]\n",
      "100%|█████████████████████████████████████████████████████████████████████████| 33.0/33.0 [00:00<00:00, 561.55seconds/s]"
     ]
    },
    {
     "name": "stdout",
     "output_type": "stream",
     "text": [
      "CPU times: total: 1.3 s\n",
      "Wall time: 5.68 s\n",
      "\n",
      "Separated Strikes:\n"
     ]
    },
    {
     "name": "stderr",
     "output_type": "stream",
     "text": [
      "\n"
     ]
    },
    {
     "data": {
      "text/html": [
       "\n",
       "                <audio  controls=\"controls\" >\n",
       "                    <source src=\"data:audio/wav;base64,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\" type=\"audio/wav\" />\n",
       "                    Your browser does not support the audio element.\n",
       "                </audio>\n",
       "              "
      ],
      "text/plain": [
       "<IPython.lib.display.Audio object>"
      ]
     },
     "metadata": {},
     "output_type": "display_data"
    }
   ],
   "source": [
    "input_file = \"ultrashort.mp3\"\n",
    "separator = StrikeSeparator()\n",
    "\n",
    "separator.separate_strikes(input_file)\n",
    "separator.preview_separated(separator.get_output_path(input_file))"
   ]
  }
 ],
 "metadata": {
  "kernelspec": {
   "display_name": "Python 3 (ipykernel)",
   "language": "python",
   "name": "python3"
  },
  "language_info": {
   "codemirror_mode": {
    "name": "ipython",
    "version": 3
   },
   "file_extension": ".py",
   "mimetype": "text/x-python",
   "name": "python",
   "nbconvert_exporter": "python",
   "pygments_lexer": "ipython3",
   "version": "3.9.12"
  }
 },
 "nbformat": 4,
 "nbformat_minor": 5
}
