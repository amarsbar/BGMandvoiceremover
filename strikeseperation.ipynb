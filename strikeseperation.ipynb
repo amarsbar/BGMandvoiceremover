{
 "cells": [
  {
   "cell_type": "code",
   "execution_count": null,
   "id": "d0284b26",
   "metadata": {},
   "outputs": [],
   "source": [
    "import torch\n",
    "import demucs.separate\n",
    "from pathlib import Path\n",
    "import os\n",
    "from IPython.display import Audio, display\n",
    "import librosa"
   ]
  },
  {
   "cell_type": "code",
   "execution_count": null,
   "id": "bdb6a71b",
   "metadata": {},
   "outputs": [],
   "source": [
    "# Uses \"drums\" to seperate action from music and voices in video games\n",
    "\n",
    "def separate_strikes(input_file, output_dir='separated'):\n",
    "    print(\"Original Audio:\")\n",
    "    y_orig, sr = librosa.load(input_file, sr=44100)\n",
    "    display(Audio(y_orig, rate=sr))\n",
    "    \n",
    "    device = \"cuda\" if torch.cuda.is_available() else \"cpu\"\n",
    "    print(f\"\\nSeparating drums using: {device}\")\n",
    "    \n",
    "    os.makedirs(output_dir, exist_ok=True)\n",
    "    cmd = [\"--two-stems\", \"drums\", \"-n\", \"mdx_extra_q\", \"--mp3\", input_file]\n",
    "    demucs.separate.main(cmd)\n",
    "    \n",
    "    # Get output path and preview\n",
    "    drums_path = Path(output_dir) / \"htdemucs\" / Path(input_file).stem / \"drums.mp3\"\n",
    "    print(\"\\nSeparated Strikes:\")\n",
    "    y_drums, sr = librosa.load(str(drums_path), sr=44100)\n",
    "    display(Audio(y_drums, rate=sr))\n",
    "    \n",
    "    print(f\"\\Strikes saved to: {drums_path}\")\n",
    "    return str(drums_path)"
   ]
  },
  {
   "cell_type": "code",
   "execution_count": null,
   "id": "1b3f0160",
   "metadata": {},
   "outputs": [],
   "source": [
    "input_file = \"before.mp3\"\n",
    "output_path = separate_strikes(input_file)"
   ]
  }
 ],
 "metadata": {
  "kernelspec": {
   "display_name": "Python 3 (ipykernel)",
   "language": "python",
   "name": "python3"
  },
  "language_info": {
   "codemirror_mode": {
    "name": "ipython",
    "version": 3
   },
   "file_extension": ".py",
   "mimetype": "text/x-python",
   "name": "python",
   "nbconvert_exporter": "python",
   "pygments_lexer": "ipython3",
   "version": "3.9.12"
  }
 },
 "nbformat": 4,
 "nbformat_minor": 5
}
